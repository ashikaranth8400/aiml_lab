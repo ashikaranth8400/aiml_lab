{
 "cells": [
  {
   "cell_type": "code",
   "execution_count": null,
   "id": "7df68969",
   "metadata": {},
   "outputs": [],
   "source": [
    "from sklearn import datasets\n",
    "from sklearn.metrics import accuracy_score\n",
    "from sklearn.metrics import confusion_matrix\n",
    "import matplotlib.pyplot as plt\n",
    "import pandas as pd\n",
    "import numpy as np\n",
    "from sklearn import preprocessing\n",
    "from sklearn.mixture import GaussianMixture\n",
    "iris = datasets.load_iris()\n",
    "x = pd.DataFrame(iris.data)\n",
    "x.columns = ['Sepal_Length','Sepal_Width','Petal_Length','Petal_Width']\n",
    "y = pd.DataFrame(iris.target)\n",
    "y.columns = ['Targets']\n",
    "plt.figure(figsize=(14,7))\n",
    "colormap = np.array(['red','lime','black'])\n",
    "plt.subplot(1,2,1)\n",
    "plt.scatter(x.Sepal_Length, x.Sepal_Width, c = colormap[y.Targets], s=40)\n",
    "plt.title('Sepal')\n",
    "plt.subplot(1,2,2)\n",
    "plt.scatter(x.Petal_Length, x.Petal_Width, c = colormap[y.Targets], s=40)\n",
    "plt.title('Petal')\n",
    "scaler = preprocessing.StandardScaler()\n",
    "scaler.fit(x)\n",
    "xsa = scaler.transform(x)\n",
    "xs = pd.DataFrame(xsa, columns = x.columns)\n",
    "gmm = GaussianMixture(n_components = 3)\n",
    "gmm.fit(xs)\n",
    "y_gmm = gmm.predict(xs)\n",
    "plt.figure(figsize=(14,7))\n",
    "colormap = np.array(['red','lime','black'])\n",
    "plt.subplot(1,2,1)\n",
    "plt.scatter(x.Petal_Length, x.Petal_Width, c = colormap[y.Targets], s=40)\n",
    "plt.title('Real')\n",
    "plt.subplot(1,2,2)\n",
    "plt.scatter(x.Petal_Length, x.Petal_Width, c = colormap[y_gmm], s=40)\n",
    "plt.title('EM')\n",
    "print(\"accuracy_score\", accuracy_score(y.Targets, y_gmm))\n",
    "print(\"confusion_matrix\\n\", confusion_matrix(y.Targets, y_gmm))"
   ]
  }
 ],
 "metadata": {
  "kernelspec": {
   "display_name": "Python 3",
   "language": "python",
   "name": "python3"
  },
  "language_info": {
   "codemirror_mode": {
    "name": "ipython",
    "version": 3
   },
   "file_extension": ".py",
   "mimetype": "text/x-python",
   "name": "python",
   "nbconvert_exporter": "python",
   "pygments_lexer": "ipython3",
   "version": "3.8.8"
  }
 },
 "nbformat": 4,
 "nbformat_minor": 5
}
